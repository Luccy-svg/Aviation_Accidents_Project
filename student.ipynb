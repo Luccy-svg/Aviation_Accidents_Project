{
 "cells": [
  {
   "cell_type": "markdown",
   "metadata": {},
   "source": [
    "## Final Project Submission\n",
    "\n",
    "Please fill out:\n",
    "* Student name: KIGO VALERIE WAMWITHA\n",
    "* Student pace: full time\n",
    "* Scheduled project review date/time: \n",
    "* Instructor name: FAITH ROTICH\n",
    "* Blog post URL:\n"
   ]
  },
  {
   "cell_type": "code",
   "execution_count": null,
   "metadata": {},
   "outputs": [],
   "source": [
    "# Your code here - remember to use markdown cells for comments as well!"
   ]
  },
  {
   "cell_type": "code",
   "execution_count": 15,
   "metadata": {},
   "outputs": [],
   "source": [
    "from matplotlib import pyplot as plt\n",
    "import pandas as pd\n",
    "import numpy as np\n",
    "import seaborn as sns"
   ]
  },
  {
   "cell_type": "code",
   "execution_count": 16,
   "metadata": {},
   "outputs": [
    {
     "name": "stdout",
     "output_type": "stream",
     "text": [
      "             Event.Id Investigation.Type Accident.Number  Event.Date  \\\n",
      "0      20001218X45444           Accident      SEA87LA080  1948-10-24   \n",
      "1      20001218X45447           Accident      LAX94LA336  1962-07-19   \n",
      "2      20061025X01555           Accident      NYC07LA005  1974-08-30   \n",
      "3      20001218X45448           Accident      LAX96LA321  1977-06-19   \n",
      "4      20041105X01764           Accident      CHI79FA064  1979-08-02   \n",
      "...               ...                ...             ...         ...   \n",
      "88884  20221227106491           Accident      ERA23LA093  2022-12-26   \n",
      "88885  20221227106494           Accident      ERA23LA095  2022-12-26   \n",
      "88886  20221227106497           Accident      WPR23LA075  2022-12-26   \n",
      "88887  20221227106498           Accident      WPR23LA076  2022-12-26   \n",
      "88888  20221230106513           Accident      ERA23LA097  2022-12-29   \n",
      "\n",
      "              Location        Country   Latitude   Longitude Airport.Code  \\\n",
      "0      MOOSE CREEK, ID  United States        NaN         NaN          NaN   \n",
      "1       BRIDGEPORT, CA  United States        NaN         NaN          NaN   \n",
      "2        Saltville, VA  United States  36.922223  -81.878056          NaN   \n",
      "3           EUREKA, CA  United States        NaN         NaN          NaN   \n",
      "4           Canton, OH  United States        NaN         NaN          NaN   \n",
      "...                ...            ...        ...         ...          ...   \n",
      "88884    Annapolis, MD  United States        NaN         NaN          NaN   \n",
      "88885      Hampton, NH  United States        NaN         NaN          NaN   \n",
      "88886       Payson, AZ  United States    341525N    1112021W          PAN   \n",
      "88887       Morgan, UT  United States        NaN         NaN          NaN   \n",
      "88888       Athens, GA  United States        NaN         NaN          NaN   \n",
      "\n",
      "      Airport.Name  ... Purpose.of.flight         Air.carrier  \\\n",
      "0              NaN  ...          Personal                 NaN   \n",
      "1              NaN  ...          Personal                 NaN   \n",
      "2              NaN  ...          Personal                 NaN   \n",
      "3              NaN  ...          Personal                 NaN   \n",
      "4              NaN  ...          Personal                 NaN   \n",
      "...            ...  ...               ...                 ...   \n",
      "88884          NaN  ...          Personal                 NaN   \n",
      "88885          NaN  ...               NaN                 NaN   \n",
      "88886       PAYSON  ...          Personal                 NaN   \n",
      "88887          NaN  ...          Personal  MC CESSNA 210N LLC   \n",
      "88888          NaN  ...          Personal                 NaN   \n",
      "\n",
      "      Total.Fatal.Injuries Total.Serious.Injuries Total.Minor.Injuries  \\\n",
      "0                      2.0                    0.0                  0.0   \n",
      "1                      4.0                    0.0                  0.0   \n",
      "2                      3.0                    NaN                  NaN   \n",
      "3                      2.0                    0.0                  0.0   \n",
      "4                      1.0                    2.0                  NaN   \n",
      "...                    ...                    ...                  ...   \n",
      "88884                  0.0                    1.0                  0.0   \n",
      "88885                  0.0                    0.0                  0.0   \n",
      "88886                  0.0                    0.0                  0.0   \n",
      "88887                  0.0                    0.0                  0.0   \n",
      "88888                  0.0                    1.0                  0.0   \n",
      "\n",
      "      Total.Uninjured Weather.Condition  Broad.phase.of.flight  \\\n",
      "0                 0.0               UNK                 Cruise   \n",
      "1                 0.0               UNK                Unknown   \n",
      "2                 NaN               IMC                 Cruise   \n",
      "3                 0.0               IMC                 Cruise   \n",
      "4                 0.0               VMC               Approach   \n",
      "...               ...               ...                    ...   \n",
      "88884             0.0               NaN                    NaN   \n",
      "88885             0.0               NaN                    NaN   \n",
      "88886             1.0               VMC                    NaN   \n",
      "88887             0.0               NaN                    NaN   \n",
      "88888             1.0               NaN                    NaN   \n",
      "\n",
      "        Report.Status Publication.Date  \n",
      "0      Probable Cause              NaN  \n",
      "1      Probable Cause       19-09-1996  \n",
      "2      Probable Cause       26-02-2007  \n",
      "3      Probable Cause       12-09-2000  \n",
      "4      Probable Cause       16-04-1980  \n",
      "...               ...              ...  \n",
      "88884             NaN       29-12-2022  \n",
      "88885             NaN              NaN  \n",
      "88886             NaN       27-12-2022  \n",
      "88887             NaN              NaN  \n",
      "88888             NaN       30-12-2022  \n",
      "\n",
      "[88889 rows x 31 columns]\n"
     ]
    }
   ],
   "source": [
    "Aviation_data = pd.read_csv('AviationData.csv', encoding = 'windows-1252', low_memory = False)\n",
    "print(Aviation_data)"
   ]
  },
  {
   "cell_type": "code",
   "execution_count": null,
   "metadata": {},
   "outputs": [],
   "source": []
  }
 ],
 "metadata": {
  "kernelspec": {
   "display_name": "Python 3 (ipykernel)",
   "language": "python",
   "name": "python3"
  },
  "language_info": {
   "codemirror_mode": {
    "name": "ipython",
    "version": 3
   },
   "file_extension": ".py",
   "mimetype": "text/x-python",
   "name": "python",
   "nbconvert_exporter": "python",
   "pygments_lexer": "ipython3",
   "version": "3.12.7"
  }
 },
 "nbformat": 4,
 "nbformat_minor": 4
}
