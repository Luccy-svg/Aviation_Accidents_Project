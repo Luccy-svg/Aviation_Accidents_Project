{
 "cells": [
  {
   "cell_type": "markdown",
   "metadata": {},
   "source": [
    "## Final Project Submission\n",
    "\n",
    "Please fill out:\n",
    "* Student name: KIGO VALERIE WAMWITHA\n",
    "* Student pace: full time\n",
    "* Scheduled project review date/time: \n",
    "* Instructor name: FAITH ROTICH\n",
    "* Blog post URL:\n"
   ]
  },
  {
   "cell_type": "markdown",
   "metadata": {},
   "source": [
    "# Aviation_Data Project - Final Project\n",
    "The company is expanding to new industries, to diversify its portifolio. A data scientist is to determine which aircraft is of low risk for the company to venture in and give actionable insights that the aviation division can use to decide which aircraft to purchase.\n",
    "\n",
    "## Objectives\n",
    "Will be able to deal with;\n",
    "\n",
    "* Missing values in data\n",
    "* How to aggregate data\n",
    "* How to visualize and make data easily accessible\n",
    "\n",
    "#### Task: Analyze best approach to be taken by the company\n",
    "\n",
    "\n"
   ]
  },
  {
   "attachments": {},
   "cell_type": "markdown",
   "metadata": {},
   "source": [
    "# Business Understanding\n",
    "## What is the relationship between potential risk of an aircraft and its purchasing operations for the company?\n",
    "### What aircraft will meet the needs of the company?\n",
    "Intuitively it may be assumed that a plane model with many casualties or number of deaths is considered not reliable.\n",
    "\n",
    "In this analysis we are going to look into AviationData dataset that will help in determining which Aircraft will be of best purchase."
   ]
  },
  {
   "cell_type": "code",
   "execution_count": 1,
   "metadata": {},
   "outputs": [],
   "source": [
    "from matplotlib import pyplot as plt\n",
    "import pandas as pd\n",
    "import numpy as np\n",
    "import seaborn as sns"
   ]
  },
  {
   "cell_type": "markdown",
   "metadata": {},
   "source": [
    "# Data Understanding\n",
    "The data source for this analysis will be from;\n",
    "### 'AviationData.csv'\n",
    "* *Sources* : The data was retrieved from Kaggle\n",
    "*  *Contents* : Data about the potential risk of each flight. Contains; model numbers, fatal injuries and the accidents occured.\n",
    "*  *Format* : It is a csv data\n",
    "## TASK\n",
    "* Check missing values\n",
    "* Aggregate Data\n",
    "## Use of\n",
    "* drop_duplicates(): to ensure no duplicated values.\n",
    "* df.head(): show first rows of a dataframe.\n",
    "* df.shape: to know the size of the data set.\n",
    "* df.drop(columns): drop Latitude and Longitude not in use at the moment in the data frame and also contains most missing values.\n",
    "\n"
   ]
  },
  {
   "cell_type": "code",
   "execution_count": 2,
   "metadata": {},
   "outputs": [
    {
     "name": "stdout",
     "output_type": "stream",
     "text": [
      "             Event.Id Investigation.Type Accident.Number  Event.Date  \\\n",
      "0      20001218X45444           Accident      SEA87LA080  1948-10-24   \n",
      "1      20001218X45447           Accident      LAX94LA336  1962-07-19   \n",
      "2      20061025X01555           Accident      NYC07LA005  1974-08-30   \n",
      "3      20001218X45448           Accident      LAX96LA321  1977-06-19   \n",
      "4      20041105X01764           Accident      CHI79FA064  1979-08-02   \n",
      "...               ...                ...             ...         ...   \n",
      "88884  20221227106491           Accident      ERA23LA093  2022-12-26   \n",
      "88885  20221227106494           Accident      ERA23LA095  2022-12-26   \n",
      "88886  20221227106497           Accident      WPR23LA075  2022-12-26   \n",
      "88887  20221227106498           Accident      WPR23LA076  2022-12-26   \n",
      "88888  20221230106513           Accident      ERA23LA097  2022-12-29   \n",
      "\n",
      "              Location        Country   Latitude   Longitude Airport.Code  \\\n",
      "0      MOOSE CREEK, ID  United States        NaN         NaN          NaN   \n",
      "1       BRIDGEPORT, CA  United States        NaN         NaN          NaN   \n",
      "2        Saltville, VA  United States  36.922223  -81.878056          NaN   \n",
      "3           EUREKA, CA  United States        NaN         NaN          NaN   \n",
      "4           Canton, OH  United States        NaN         NaN          NaN   \n",
      "...                ...            ...        ...         ...          ...   \n",
      "88884    Annapolis, MD  United States        NaN         NaN          NaN   \n",
      "88885      Hampton, NH  United States        NaN         NaN          NaN   \n",
      "88886       Payson, AZ  United States    341525N    1112021W          PAN   \n",
      "88887       Morgan, UT  United States        NaN         NaN          NaN   \n",
      "88888       Athens, GA  United States        NaN         NaN          NaN   \n",
      "\n",
      "      Airport.Name  ... Purpose.of.flight         Air.carrier  \\\n",
      "0              NaN  ...          Personal                 NaN   \n",
      "1              NaN  ...          Personal                 NaN   \n",
      "2              NaN  ...          Personal                 NaN   \n",
      "3              NaN  ...          Personal                 NaN   \n",
      "4              NaN  ...          Personal                 NaN   \n",
      "...            ...  ...               ...                 ...   \n",
      "88884          NaN  ...          Personal                 NaN   \n",
      "88885          NaN  ...               NaN                 NaN   \n",
      "88886       PAYSON  ...          Personal                 NaN   \n",
      "88887          NaN  ...          Personal  MC CESSNA 210N LLC   \n",
      "88888          NaN  ...          Personal                 NaN   \n",
      "\n",
      "      Total.Fatal.Injuries Total.Serious.Injuries Total.Minor.Injuries  \\\n",
      "0                      2.0                    0.0                  0.0   \n",
      "1                      4.0                    0.0                  0.0   \n",
      "2                      3.0                    NaN                  NaN   \n",
      "3                      2.0                    0.0                  0.0   \n",
      "4                      1.0                    2.0                  NaN   \n",
      "...                    ...                    ...                  ...   \n",
      "88884                  0.0                    1.0                  0.0   \n",
      "88885                  0.0                    0.0                  0.0   \n",
      "88886                  0.0                    0.0                  0.0   \n",
      "88887                  0.0                    0.0                  0.0   \n",
      "88888                  0.0                    1.0                  0.0   \n",
      "\n",
      "      Total.Uninjured Weather.Condition  Broad.phase.of.flight  \\\n",
      "0                 0.0               UNK                 Cruise   \n",
      "1                 0.0               UNK                Unknown   \n",
      "2                 NaN               IMC                 Cruise   \n",
      "3                 0.0               IMC                 Cruise   \n",
      "4                 0.0               VMC               Approach   \n",
      "...               ...               ...                    ...   \n",
      "88884             0.0               NaN                    NaN   \n",
      "88885             0.0               NaN                    NaN   \n",
      "88886             1.0               VMC                    NaN   \n",
      "88887             0.0               NaN                    NaN   \n",
      "88888             1.0               NaN                    NaN   \n",
      "\n",
      "        Report.Status Publication.Date  \n",
      "0      Probable Cause              NaN  \n",
      "1      Probable Cause       19-09-1996  \n",
      "2      Probable Cause       26-02-2007  \n",
      "3      Probable Cause       12-09-2000  \n",
      "4      Probable Cause       16-04-1980  \n",
      "...               ...              ...  \n",
      "88884             NaN       29-12-2022  \n",
      "88885             NaN              NaN  \n",
      "88886             NaN       27-12-2022  \n",
      "88887             NaN              NaN  \n",
      "88888             NaN       30-12-2022  \n",
      "\n",
      "[88889 rows x 31 columns]\n"
     ]
    }
   ],
   "source": [
    "df = pd.read_csv('AviationData.csv', encoding = 'windows-1252', low_memory = False)\n",
    "print(df)"
   ]
  },
  {
   "cell_type": "code",
   "execution_count": 3,
   "metadata": {},
   "outputs": [
    {
     "name": "stdout",
     "output_type": "stream",
     "text": [
      "Missing values per column:\n",
      "      Event.Id Investigation.Type Accident.Number Event.Date Location Country  \\\n",
      "0          NaN                NaN             NaN        NaN      NaN     NaN   \n",
      "1          NaN                NaN             NaN        NaN      NaN     NaN   \n",
      "2          NaN                NaN             NaN        NaN      NaN     NaN   \n",
      "3          NaN                NaN             NaN        NaN      NaN     NaN   \n",
      "4          NaN                NaN             NaN        NaN      NaN     NaN   \n",
      "...        ...                ...             ...        ...      ...     ...   \n",
      "88884      NaN                NaN             NaN        NaN      NaN     NaN   \n",
      "88885      NaN                NaN             NaN        NaN      NaN     NaN   \n",
      "88886      NaN                NaN             NaN        NaN      NaN     NaN   \n",
      "88887      NaN                NaN             NaN        NaN      NaN     NaN   \n",
      "88888      NaN                NaN             NaN        NaN      NaN     NaN   \n",
      "\n",
      "      Latitude Longitude Airport.Code Airport.Name  ... Purpose.of.flight  \\\n",
      "0          NaN       NaN          NaN          NaN  ...               NaN   \n",
      "1          NaN       NaN          NaN          NaN  ...               NaN   \n",
      "2          NaN       NaN          NaN          NaN  ...               NaN   \n",
      "3          NaN       NaN          NaN          NaN  ...               NaN   \n",
      "4          NaN       NaN          NaN          NaN  ...               NaN   \n",
      "...        ...       ...          ...          ...  ...               ...   \n",
      "88884      NaN       NaN          NaN          NaN  ...               NaN   \n",
      "88885      NaN       NaN          NaN          NaN  ...               NaN   \n",
      "88886      NaN       NaN          NaN          NaN  ...               NaN   \n",
      "88887      NaN       NaN          NaN          NaN  ...               NaN   \n",
      "88888      NaN       NaN          NaN          NaN  ...               NaN   \n",
      "\n",
      "      Air.carrier Total.Fatal.Injuries Total.Serious.Injuries  \\\n",
      "0             NaN                  NaN                    NaN   \n",
      "1             NaN                  NaN                    NaN   \n",
      "2             NaN                  NaN                    NaN   \n",
      "3             NaN                  NaN                    NaN   \n",
      "4             NaN                  NaN                    NaN   \n",
      "...           ...                  ...                    ...   \n",
      "88884         NaN                  NaN                    NaN   \n",
      "88885         NaN                  NaN                    NaN   \n",
      "88886         NaN                  NaN                    NaN   \n",
      "88887         NaN                  NaN                    NaN   \n",
      "88888         NaN                  NaN                    NaN   \n",
      "\n",
      "      Total.Minor.Injuries Total.Uninjured Weather.Condition  \\\n",
      "0                      NaN             NaN               NaN   \n",
      "1                      NaN             NaN               NaN   \n",
      "2                      NaN             NaN               NaN   \n",
      "3                      NaN             NaN               NaN   \n",
      "4                      NaN             NaN               NaN   \n",
      "...                    ...             ...               ...   \n",
      "88884                  NaN             NaN               NaN   \n",
      "88885                  NaN             NaN               NaN   \n",
      "88886                  NaN             NaN               NaN   \n",
      "88887                  NaN             NaN               NaN   \n",
      "88888                  NaN             NaN               NaN   \n",
      "\n",
      "      Broad.phase.of.flight Report.Status Publication.Date  \n",
      "0                       NaN           NaN              NaN  \n",
      "1                       NaN           NaN              NaN  \n",
      "2                       NaN           NaN              NaN  \n",
      "3                       NaN           NaN              NaN  \n",
      "4                       NaN           NaN              NaN  \n",
      "...                     ...           ...              ...  \n",
      "88884                   NaN           NaN              NaN  \n",
      "88885                   NaN           NaN              NaN  \n",
      "88886                   NaN           NaN              NaN  \n",
      "88887                   NaN           NaN              NaN  \n",
      "88888                   NaN           NaN              NaN  \n",
      "\n",
      "[88889 rows x 31 columns]\n"
     ]
    }
   ],
   "source": [
    "missing_values = df.isna()\n",
    "print(\"Missing values per column:\")\n",
    "print(missing_values[missing_values < 0])"
   ]
  },
  {
   "cell_type": "code",
   "execution_count": 4,
   "metadata": {},
   "outputs": [
    {
     "name": "stdout",
     "output_type": "stream",
     "text": [
      "             Event.Id Investigation.Type Accident.Number  Event.Date  \\\n",
      "0      20001218X45444           Accident      SEA87LA080  1948-10-24   \n",
      "1      20001218X45447           Accident      LAX94LA336  1962-07-19   \n",
      "2      20061025X01555           Accident      NYC07LA005  1974-08-30   \n",
      "3      20001218X45448           Accident      LAX96LA321  1977-06-19   \n",
      "4      20041105X01764           Accident      CHI79FA064  1979-08-02   \n",
      "...               ...                ...             ...         ...   \n",
      "88884  20221227106491           Accident      ERA23LA093  2022-12-26   \n",
      "88885  20221227106494           Accident      ERA23LA095  2022-12-26   \n",
      "88886  20221227106497           Accident      WPR23LA075  2022-12-26   \n",
      "88887  20221227106498           Accident      WPR23LA076  2022-12-26   \n",
      "88888  20221230106513           Accident      ERA23LA097  2022-12-29   \n",
      "\n",
      "              Location        Country Airport.Code Airport.Name  \\\n",
      "0      MOOSE CREEK, ID  United States          NaN          NaN   \n",
      "1       BRIDGEPORT, CA  United States          NaN          NaN   \n",
      "2        Saltville, VA  United States          NaN          NaN   \n",
      "3           EUREKA, CA  United States          NaN          NaN   \n",
      "4           Canton, OH  United States          NaN          NaN   \n",
      "...                ...            ...          ...          ...   \n",
      "88884    Annapolis, MD  United States          NaN          NaN   \n",
      "88885      Hampton, NH  United States          NaN          NaN   \n",
      "88886       Payson, AZ  United States          PAN       PAYSON   \n",
      "88887       Morgan, UT  United States          NaN          NaN   \n",
      "88888       Athens, GA  United States          NaN          NaN   \n",
      "\n",
      "      Injury.Severity Aircraft.damage  ... Purpose.of.flight  \\\n",
      "0            Fatal(2)       Destroyed  ...          Personal   \n",
      "1            Fatal(4)       Destroyed  ...          Personal   \n",
      "2            Fatal(3)       Destroyed  ...          Personal   \n",
      "3            Fatal(2)       Destroyed  ...          Personal   \n",
      "4            Fatal(1)       Destroyed  ...          Personal   \n",
      "...               ...             ...  ...               ...   \n",
      "88884           Minor             NaN  ...          Personal   \n",
      "88885             NaN             NaN  ...               NaN   \n",
      "88886       Non-Fatal     Substantial  ...          Personal   \n",
      "88887             NaN             NaN  ...          Personal   \n",
      "88888           Minor             NaN  ...          Personal   \n",
      "\n",
      "              Air.carrier Total.Fatal.Injuries Total.Serious.Injuries  \\\n",
      "0                     NaN                  2.0                    0.0   \n",
      "1                     NaN                  4.0                    0.0   \n",
      "2                     NaN                  3.0                    NaN   \n",
      "3                     NaN                  2.0                    0.0   \n",
      "4                     NaN                  1.0                    2.0   \n",
      "...                   ...                  ...                    ...   \n",
      "88884                 NaN                  0.0                    1.0   \n",
      "88885                 NaN                  0.0                    0.0   \n",
      "88886                 NaN                  0.0                    0.0   \n",
      "88887  MC CESSNA 210N LLC                  0.0                    0.0   \n",
      "88888                 NaN                  0.0                    1.0   \n",
      "\n",
      "      Total.Minor.Injuries  Total.Uninjured Weather.Condition  \\\n",
      "0                      0.0              0.0               UNK   \n",
      "1                      0.0              0.0               UNK   \n",
      "2                      NaN              NaN               IMC   \n",
      "3                      0.0              0.0               IMC   \n",
      "4                      NaN              0.0               VMC   \n",
      "...                    ...              ...               ...   \n",
      "88884                  0.0              0.0               NaN   \n",
      "88885                  0.0              0.0               NaN   \n",
      "88886                  0.0              1.0               VMC   \n",
      "88887                  0.0              0.0               NaN   \n",
      "88888                  0.0              1.0               NaN   \n",
      "\n",
      "      Broad.phase.of.flight   Report.Status Publication.Date  \n",
      "0                    Cruise  Probable Cause              NaN  \n",
      "1                   Unknown  Probable Cause       19-09-1996  \n",
      "2                    Cruise  Probable Cause       26-02-2007  \n",
      "3                    Cruise  Probable Cause       12-09-2000  \n",
      "4                  Approach  Probable Cause       16-04-1980  \n",
      "...                     ...             ...              ...  \n",
      "88884                   NaN             NaN       29-12-2022  \n",
      "88885                   NaN             NaN              NaN  \n",
      "88886                   NaN             NaN       27-12-2022  \n",
      "88887                   NaN             NaN              NaN  \n",
      "88888                   NaN             NaN       30-12-2022  \n",
      "\n",
      "[88889 rows x 29 columns]\n"
     ]
    }
   ],
   "source": [
    "df = df.drop(columns= ['Latitude', 'Longitude'])\n",
    "print(df)"
   ]
  },
  {
   "cell_type": "code",
   "execution_count": 5,
   "metadata": {},
   "outputs": [
    {
     "name": "stdout",
     "output_type": "stream",
     "text": [
      "             Event.Id Investigation.Type Accident.Number  Event.Date  \\\n",
      "0      20001218X45444           Accident      SEA87LA080  1948-10-24   \n",
      "1      20001218X45447           Accident      LAX94LA336  1962-07-19   \n",
      "2      20061025X01555           Accident      NYC07LA005  1974-08-30   \n",
      "3      20001218X45448           Accident      LAX96LA321  1977-06-19   \n",
      "4      20041105X01764           Accident      CHI79FA064  1979-08-02   \n",
      "...               ...                ...             ...         ...   \n",
      "88884  20221227106491           Accident      ERA23LA093  2022-12-26   \n",
      "88885  20221227106494           Accident      ERA23LA095  2022-12-26   \n",
      "88886  20221227106497           Accident      WPR23LA075  2022-12-26   \n",
      "88887  20221227106498           Accident      WPR23LA076  2022-12-26   \n",
      "88888  20221230106513           Accident      ERA23LA097  2022-12-29   \n",
      "\n",
      "              Location        Country Airport.Code Airport.Name  \\\n",
      "0      MOOSE CREEK, ID  United States          NaN          NaN   \n",
      "1       BRIDGEPORT, CA  United States          NaN          NaN   \n",
      "2        Saltville, VA  United States          NaN          NaN   \n",
      "3           EUREKA, CA  United States          NaN          NaN   \n",
      "4           Canton, OH  United States          NaN          NaN   \n",
      "...                ...            ...          ...          ...   \n",
      "88884    Annapolis, MD  United States          NaN          NaN   \n",
      "88885      Hampton, NH  United States          NaN          NaN   \n",
      "88886       Payson, AZ  United States          PAN       PAYSON   \n",
      "88887       Morgan, UT  United States          NaN          NaN   \n",
      "88888       Athens, GA  United States          NaN          NaN   \n",
      "\n",
      "      Injury.Severity Aircraft.damage  ... Purpose.of.flight  \\\n",
      "0            Fatal(2)       Destroyed  ...          Personal   \n",
      "1            Fatal(4)       Destroyed  ...          Personal   \n",
      "2            Fatal(3)       Destroyed  ...          Personal   \n",
      "3            Fatal(2)       Destroyed  ...          Personal   \n",
      "4            Fatal(1)       Destroyed  ...          Personal   \n",
      "...               ...             ...  ...               ...   \n",
      "88884           Minor             NaN  ...          Personal   \n",
      "88885             NaN             NaN  ...               NaN   \n",
      "88886       Non-Fatal     Substantial  ...          Personal   \n",
      "88887             NaN             NaN  ...          Personal   \n",
      "88888           Minor             NaN  ...          Personal   \n",
      "\n",
      "              Air.carrier Total.Fatal.Injuries Total.Serious.Injuries  \\\n",
      "0                     NaN                  2.0                    0.0   \n",
      "1                     NaN                  4.0                    0.0   \n",
      "2                     NaN                  3.0                    NaN   \n",
      "3                     NaN                  2.0                    0.0   \n",
      "4                     NaN                  1.0                    2.0   \n",
      "...                   ...                  ...                    ...   \n",
      "88884                 NaN                  0.0                    1.0   \n",
      "88885                 NaN                  0.0                    0.0   \n",
      "88886                 NaN                  0.0                    0.0   \n",
      "88887  MC CESSNA 210N LLC                  0.0                    0.0   \n",
      "88888                 NaN                  0.0                    1.0   \n",
      "\n",
      "      Total.Minor.Injuries  Total.Uninjured Weather.Condition  \\\n",
      "0                      0.0              0.0               UNK   \n",
      "1                      0.0              0.0               UNK   \n",
      "2                      NaN              NaN               IMC   \n",
      "3                      0.0              0.0               IMC   \n",
      "4                      NaN              0.0               VMC   \n",
      "...                    ...              ...               ...   \n",
      "88884                  0.0              0.0               NaN   \n",
      "88885                  0.0              0.0               NaN   \n",
      "88886                  0.0              1.0               VMC   \n",
      "88887                  0.0              0.0               NaN   \n",
      "88888                  0.0              1.0               NaN   \n",
      "\n",
      "      Broad.phase.of.flight   Report.Status Publication.Date  \n",
      "0                    Cruise  Probable Cause              NaN  \n",
      "1                   Unknown  Probable Cause       19-09-1996  \n",
      "2                    Cruise  Probable Cause       26-02-2007  \n",
      "3                    Cruise  Probable Cause       12-09-2000  \n",
      "4                  Approach  Probable Cause       16-04-1980  \n",
      "...                     ...             ...              ...  \n",
      "88884                   NaN             NaN       29-12-2022  \n",
      "88885                   NaN             NaN              NaN  \n",
      "88886                   NaN             NaN       27-12-2022  \n",
      "88887                   NaN             NaN              NaN  \n",
      "88888                   NaN             NaN       30-12-2022  \n",
      "\n",
      "[88889 rows x 29 columns]\n"
     ]
    }
   ],
   "source": [
    "df = df.drop_duplicates()\n",
    "print(df)"
   ]
  },
  {
   "cell_type": "code",
   "execution_count": 6,
   "metadata": {},
   "outputs": [
    {
     "data": {
      "text/plain": [
       "(88889, 29)"
      ]
     },
     "execution_count": 6,
     "metadata": {},
     "output_type": "execute_result"
    }
   ],
   "source": [
    "df.shape"
   ]
  },
  {
   "cell_type": "markdown",
   "metadata": {},
   "source": [
    "## Requirements\n",
    "### 1. Most used Aircraft\n",
    "Alphabetically sorted list of  mst used plane Make and Models\n",
    "### 2. Associating total fatal injuries to the Models and Make\n",
    "### 3. Associating make and model to weather\n",
    "### 4. find outliers\n",
    "presumably checking which models can withstand the weather\n",
    "### 5. Analysis of AviationData\n"
   ]
  },
  {
   "cell_type": "code",
   "execution_count": 7,
   "metadata": {},
   "outputs": [
    {
     "name": "stdout",
     "output_type": "stream",
     "text": [
      "Aircraft\n",
      "Cessna 152         2168\n",
      "Cessna 172         1254\n",
      "Cessna 172N         996\n",
      "Piper PA-28-140     812\n",
      "Cessna 150          716\n",
      "Cessna 172M         667\n",
      "Cessna 172P         597\n",
      "Piper PA-18         539\n",
      "Cessna 150M         539\n",
      "Piper PA-28-161     502\n",
      "Name: count, dtype: int64\n"
     ]
    }
   ],
   "source": [
    "df['Aircraft']= df['Make'].astype(str) + \" \" + df['Model'].astype(str)\n",
    "most_used_aircraft = df['Aircraft'].value_counts().head(10)\n",
    "print(most_used_aircraft)"
   ]
  },
  {
   "cell_type": "code",
   "execution_count": 8,
   "metadata": {},
   "outputs": [
    {
     "name": "stdout",
     "output_type": "stream",
     "text": [
      "Aircraft\n",
      "Bailey DSA-1                           1\n",
      "Ayres SR2                              1\n",
      "Werner Vari-Eze                        1\n",
      "nan Unknown                            1\n",
      "Trinidad TB-20                         1\n",
      "Slingsby Swallow Type T.45             1\n",
      "Kearney Pulsar XP                      1\n",
      "Schrack Starduster Too                 1\n",
      "American Air Racing Thunder Mustang    1\n",
      "Jones Challenger II                    1\n",
      "Name: count, dtype: int64\n"
     ]
    }
   ],
   "source": [
    "df['Aircraft']= df['Make'].astype(str) + \" \" + df['Model'].astype(str)\n",
    "least_used_aircraft = df['Aircraft'].value_counts(ascending= True).head(10)\n",
    "print(least_used_aircraft)"
   ]
  },
  {
   "cell_type": "code",
   "execution_count": 9,
   "metadata": {},
   "outputs": [
    {
     "name": "stdout",
     "output_type": "stream",
     "text": [
      "           Model                            Make  Total.Fatal.Injuries\n",
      "2506         737                          BOEING                1348.0\n",
      "2543     737-200                          Boeing                 906.0\n",
      "2866   777 - 206                          BOEING                 534.0\n",
      "12038      MD-82                          Boeing                 403.0\n",
      "3504        A321                          AIRBUS                 381.0\n",
      "...          ...                             ...                   ...\n",
      "8241     EMB-202                         EMBRAER                   0.0\n",
      "8242     EMB-202                         Embraer                   0.0\n",
      "8244     EMB-500  EMBRAER EXECUTIVE AIRCRAFT INC                   0.0\n",
      "8245     EMB-500                    EMBRAER S.A.                   0.0\n",
      "10068      Husky                           Aviat                   0.0\n",
      "\n",
      "[20136 rows x 3 columns]\n"
     ]
    }
   ],
   "source": [
    "# Use loc to tell pandas to modify the specific columns and not a temporary column\n",
    "\n",
    "df_subset = df[['Model', 'Make', 'Total.Fatal.Injuries']]\n",
    "df_subset.loc[:, 'Total.Fatal.Injuries'] = pd.to_numeric(df_subset['Total.Fatal.Injuries'],errors= 'coerce')\n",
    "fatalities_by_model =df_subset.groupby(['Model', 'Make'])['Total.Fatal.Injuries'].sum().reset_index()\n",
    "fatalities_by_model = fatalities_by_model.sort_values(by= 'Total.Fatal.Injuries', ascending= False)\n",
    "print(fatalities_by_model)"
   ]
  },
  {
   "cell_type": "code",
   "execution_count": 10,
   "metadata": {},
   "outputs": [
    {
     "name": "stdout",
     "output_type": "stream",
     "text": [
      "           Model                   Make  Total.Serious.Injuries\n",
      "2506         737                 BOEING                   380.0\n",
      "13437  PA-28-140                  Piper                   219.0\n",
      "446          172                 Cessna                   192.0\n",
      "357          152                 Cessna                   168.0\n",
      "514         172N                 Cessna                   150.0\n",
      "...          ...                    ...                     ...\n",
      "8072       EA300                  EXTRA                     0.0\n",
      "8074     EA300/L      Extra Flugzeugbau                     0.0\n",
      "8075       EA500  ECLIPSE AEROSPACE INC                     0.0\n",
      "8077       EA500       Eclipse Aviation                     0.0\n",
      "20135    unknown                Unknown                     0.0\n",
      "\n",
      "[20136 rows x 3 columns]\n"
     ]
    }
   ],
   "source": [
    "# Use loc to tell pandas to modify the specific columns and not a temporary column\n",
    "\n",
    "df_subset = df[['Model', 'Make', 'Total.Serious.Injuries']]\n",
    "df_subset.loc[:, 'Total.Serious.Injuries'] = pd.to_numeric(df_subset['Total.Serious.Injuries'],errors= 'coerce')\n",
    "fatalities_by_model =df_subset.groupby(['Model', 'Make'])['Total.Serious.Injuries'].sum().reset_index()\n",
    "fatalities_by_model = fatalities_by_model.sort_values(by= 'Total.Serious.Injuries', ascending= False)\n",
    "print(fatalities_by_model)"
   ]
  },
  {
   "cell_type": "code",
   "execution_count": 11,
   "metadata": {},
   "outputs": [
    {
     "name": "stdout",
     "output_type": "stream",
     "text": [
      "           Model               Make  Total.Fatal.Injuries\n",
      "0          &GCBC           Champion                   0.0\n",
      "12032      MD-80  Mcdonnell Douglas                   0.0\n",
      "12033      MD-81             Boeing                   0.0\n",
      "12034      MD-81  MCDONNELL DOUGLAS                   0.0\n",
      "12035      MD-81  Mcdonnell Douglas                   0.0\n",
      "...          ...                ...                   ...\n",
      "3504        A321             AIRBUS                 381.0\n",
      "12038      MD-82             Boeing                 403.0\n",
      "2866   777 - 206             BOEING                 534.0\n",
      "2543     737-200             Boeing                 906.0\n",
      "2506         737             BOEING                1348.0\n",
      "\n",
      "[20136 rows x 3 columns]\n"
     ]
    }
   ],
   "source": [
    "# Use loc to tell pandas to modify the specific columns and not a temporary column\n",
    "\n",
    "df_subset = df[['Model', 'Make', 'Total.Fatal.Injuries']]\n",
    "df_subset.loc[:, 'Total.Fatal.Injuries'] = pd.to_numeric(df_subset['Total.Fatal.Injuries'],errors= 'coerce')\n",
    "fatalities_by_model =df_subset.groupby(['Model', 'Make'])['Total.Fatal.Injuries'].sum().reset_index()\n",
    "fatalities_by_model = fatalities_by_model.sort_values(by= 'Total.Fatal.Injuries', ascending= True)\n",
    "print(fatalities_by_model)"
   ]
  },
  {
   "cell_type": "code",
   "execution_count": 12,
   "metadata": {},
   "outputs": [
    {
     "name": "stdout",
     "output_type": "stream",
     "text": [
      "Model                      737\n",
      "Make                    BOEING\n",
      "Total.Fatal.Injuries    1348.0\n",
      "Name: 2506, dtype: object\n"
     ]
    }
   ],
   "source": [
    "Fatal_Aircraft = fatalities_by_model.loc[fatalities_by_model['Total.Fatal.Injuries'].idxmax()]\n",
    "print(Fatal_Aircraft)"
   ]
  },
  {
   "cell_type": "code",
   "execution_count": 13,
   "metadata": {},
   "outputs": [
    {
     "name": "stdout",
     "output_type": "stream",
     "text": [
      "Model                      &GCBC\n",
      "Make                    Champion\n",
      "Total.Fatal.Injuries         0.0\n",
      "Name: 0, dtype: object\n"
     ]
    }
   ],
   "source": [
    "Fatal_Aircraft = fatalities_by_model.loc[fatalities_by_model['Total.Fatal.Injuries'].idxmin()]\n",
    "print(Fatal_Aircraft)"
   ]
  },
  {
   "cell_type": "code",
   "execution_count": null,
   "metadata": {},
   "outputs": [],
   "source": []
  }
 ],
 "metadata": {
  "kernelspec": {
   "display_name": "Python 3 (ipykernel)",
   "language": "python",
   "name": "python3"
  },
  "language_info": {
   "codemirror_mode": {
    "name": "ipython",
    "version": 3
   },
   "file_extension": ".py",
   "mimetype": "text/x-python",
   "name": "python",
   "nbconvert_exporter": "python",
   "pygments_lexer": "ipython3",
   "version": "3.12.7"
  }
 },
 "nbformat": 4,
 "nbformat_minor": 4
}
